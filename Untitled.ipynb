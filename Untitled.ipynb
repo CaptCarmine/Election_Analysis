{
 "cells": [
  {
   "cell_type": "code",
   "execution_count": 12,
   "id": "15252e0b",
   "metadata": {},
   "outputs": [
    {
     "output_type": "stream",
     "name": "stdout",
     "text": [
      "Hello world\n"
     ]
    }
   ],
   "source": [
    "print(\"Hello world\")"
   ]
  },
  {
   "cell_type": "code",
   "execution_count": 13,
   "id": "b29ae435",
   "metadata": {},
   "outputs": [],
   "source": [
    "counties = ['Arapahoe', 'Denver', 'Jefferson']"
   ]
  },
  {
   "cell_type": "code",
   "execution_count": 14,
   "id": "dcee31d8",
   "metadata": {},
   "outputs": [
    {
     "output_type": "stream",
     "name": "stdout",
     "text": [
      "['Arapahoe', 'Denver', 'Jefferson']\n"
     ]
    }
   ],
   "source": [
    "print(counties)"
   ]
  },
  {
   "cell_type": "code",
   "execution_count": 8,
   "id": "96fd4426",
   "metadata": {},
   "outputs": [],
   "source": [
    "countries.append(\"El Paso\")"
   ]
  },
  {
   "cell_type": "code",
   "execution_count": 9,
   "id": "0762a476",
   "metadata": {},
   "outputs": [
    {
     "name": "stdout",
     "output_type": "stream",
     "text": [
      "Variable    Type    Data/Info\n",
      "-----------------------------\n",
      "countries   list    n=5\n"
     ]
    }
   ],
   "source": [
    "%whos"
   ]
  },
  {
   "cell_type": "code",
   "execution_count": 11,
   "id": "7c8c57a9",
   "metadata": {},
   "outputs": [],
   "source": [
    "counties = countries[:]"
   ]
  },
  {
   "cell_type": "code",
   "execution_count": 12,
   "id": "9f1cd830",
   "metadata": {},
   "outputs": [
    {
     "name": "stdout",
     "output_type": "stream",
     "text": [
      "Variable    Type    Data/Info\n",
      "-----------------------------\n",
      "counties    list    n=5\n",
      "countries   list    n=5\n"
     ]
    }
   ],
   "source": [
    "%whos"
   ]
  },
  {
   "cell_type": "code",
   "execution_count": 13,
   "id": "da0bbda5",
   "metadata": {},
   "outputs": [
    {
     "data": {
      "text/plain": [
       "'Jefferson'"
      ]
     },
     "execution_count": 13,
     "metadata": {},
     "output_type": "execute_result"
    }
   ],
   "source": [
    "counties.pop(3)"
   ]
  },
  {
   "cell_type": "code",
   "execution_count": 29,
   "id": "ac587565",
   "metadata": {},
   "outputs": [
    {
     "name": "stdout",
     "output_type": "stream",
     "text": [
      "['Denver', 'Jefferson', 'El Paso']\n"
     ]
    }
   ],
   "source": [
    "print(counties)"
   ]
  },
  {
   "cell_type": "code",
   "execution_count": 19,
   "id": "a813c5e8",
   "metadata": {},
   "outputs": [],
   "source": [
    "counties.append('Jefferson')"
   ]
  },
  {
   "cell_type": "code",
   "execution_count": 21,
   "id": "a51fd700",
   "metadata": {},
   "outputs": [],
   "source": [
    "counties[2] = \"El Paso\""
   ]
  },
  {
   "cell_type": "code",
   "execution_count": 24,
   "id": "efc64940",
   "metadata": {},
   "outputs": [],
   "source": [
    "counties.append(\"El Paso\")"
   ]
  },
  {
   "cell_type": "code",
   "execution_count": 26,
   "id": "bcb90fe8",
   "metadata": {},
   "outputs": [
    {
     "data": {
      "text/plain": [
       "'Arapahoe'"
      ]
     },
     "execution_count": 26,
     "metadata": {},
     "output_type": "execute_result"
    }
   ],
   "source": [
    "counties.pop(0)"
   ]
  },
  {
   "cell_type": "code",
   "execution_count": 19,
   "id": "cc1ba13b",
   "metadata": {},
   "outputs": [],
   "source": [
    "counties_tuple = (\"Arapahoe\",\"Denver\",\"Jefferson\")"
   ]
  },
  {
   "cell_type": "code",
   "execution_count": 10,
   "metadata": {},
   "outputs": [
    {
     "output_type": "stream",
     "name": "stdout",
     "text": [
      "('Arapahoe', 'Denver')\n"
     ]
    }
   ],
   "source": [
    "print(counties_tuple[:-1])"
   ]
  },
  {
   "cell_type": "code",
   "execution_count": 12,
   "metadata": {},
   "outputs": [
    {
     "output_type": "stream",
     "name": "stdout",
     "text": [
      "Jefferson\n"
     ]
    }
   ],
   "source": [
    "print(counties_tuple[-1])"
   ]
  },
  {
   "cell_type": "code",
   "execution_count": 2,
   "metadata": {},
   "outputs": [],
   "source": [
    "my_dictionary = {}"
   ]
  },
  {
   "cell_type": "code",
   "execution_count": 18,
   "metadata": {},
   "outputs": [
    {
     "output_type": "stream",
     "name": "stdout",
     "text": [
      "Variable   Type      Data/Info\n------------------------------\ncounties   list      n=3\ni          int       2\nnum        int       4\nnumbers    list      n=5\nos         module    <module 'os' from 'C:\\\\Us<...>\\PythonData\\\\lib\\\\os.py'>\nsys        module    <module 'sys' (built-in)>\n"
     ]
    }
   ],
   "source": [
    "%whos"
   ]
  },
  {
   "cell_type": "code",
   "execution_count": 23,
   "metadata": {},
   "outputs": [],
   "source": [
    "counties_dict = {}"
   ]
  },
  {
   "cell_type": "code",
   "execution_count": 24,
   "metadata": {},
   "outputs": [],
   "source": [
    "counties_dict[\"Arapahoe\"] = 422829"
   ]
  },
  {
   "cell_type": "code",
   "execution_count": 17,
   "metadata": {},
   "outputs": [
    {
     "output_type": "stream",
     "name": "stdout",
     "text": [
      "{'Arapahoe': 422829, 'Denver': 463353, 'Jefferson': 432438}\n"
     ]
    }
   ],
   "source": [
    "print(counties_dict)"
   ]
  },
  {
   "cell_type": "code",
   "execution_count": 25,
   "metadata": {},
   "outputs": [],
   "source": [
    "counties_dict[\"Denver\"] = 463353\n",
    "counties_dict[\"Jefferson\"] = 432438"
   ]
  },
  {
   "cell_type": "code",
   "execution_count": 26,
   "metadata": {},
   "outputs": [
    {
     "output_type": "execute_result",
     "data": {
      "text/plain": [
       "3"
      ]
     },
     "metadata": {},
     "execution_count": 26
    }
   ],
   "source": [
    "len(counties_dict)"
   ]
  },
  {
   "cell_type": "code",
   "execution_count": 19,
   "metadata": {},
   "outputs": [
    {
     "output_type": "execute_result",
     "data": {
      "text/plain": [
       "dict_items([('Arapahoe', 422829), ('Denver', 463353), ('Jefferson', 432438)])"
      ]
     },
     "metadata": {},
     "execution_count": 19
    }
   ],
   "source": [
    "counties_dict.items()"
   ]
  },
  {
   "cell_type": "code",
   "execution_count": 20,
   "metadata": {},
   "outputs": [
    {
     "output_type": "execute_result",
     "data": {
      "text/plain": [
       "dict_keys(['Arapahoe', 'Denver', 'Jefferson'])"
      ]
     },
     "metadata": {},
     "execution_count": 20
    }
   ],
   "source": [
    "counties_dict.keys()"
   ]
  },
  {
   "cell_type": "code",
   "execution_count": 35,
   "metadata": {},
   "outputs": [],
   "source": [
    "voting_data = []"
   ]
  },
  {
   "cell_type": "code",
   "execution_count": 36,
   "metadata": {},
   "outputs": [],
   "source": [
    "voting_data.append({\"county\":\"Arapahoe\", \"registered_voters\": 422829})\n",
    "voting_data.append({\"county\":\"Denver\", \"registered_voters\": 463353})\n",
    "voting_data.append({\"county\":\"Jefferson\", \"registered_voters\": 432438})"
   ]
  },
  {
   "cell_type": "code",
   "execution_count": 37,
   "metadata": {},
   "outputs": [
    {
     "output_type": "stream",
     "name": "stdout",
     "text": [
      "[{'county': 'Arapahoe', 'registered_voters': 422829}, {'county': 'Denver', 'registered_voters': 463353}, {'county': 'Jefferson', 'registered_voters': 432438}]\n"
     ]
    }
   ],
   "source": [
    "print(voting_data)"
   ]
  },
  {
   "cell_type": "code",
   "execution_count": 24,
   "metadata": {},
   "outputs": [
    {
     "output_type": "execute_result",
     "data": {
      "text/plain": [
       "3"
      ]
     },
     "metadata": {},
     "execution_count": 24
    }
   ],
   "source": [
    "len(voting_data)"
   ]
  },
  {
   "cell_type": "code",
   "execution_count": 39,
   "metadata": {},
   "outputs": [
    {
     "output_type": "execute_result",
     "data": {
      "text/plain": [
       "{'county': 'Denver', 'registered_voters': 463353}"
      ]
     },
     "metadata": {},
     "execution_count": 39
    }
   ],
   "source": [
    "voting_data[(1)]"
   ]
  },
  {
   "cell_type": "code",
   "execution_count": 45,
   "metadata": {},
   "outputs": [
    {
     "output_type": "stream",
     "name": "stdout",
     "text": [
      "[{'county': 'El Pass', 'regisgered_voters': 46149}, {'county': 'Jefferson', 'registered_voters': 432438}, {'county': 'Denver', 'registered_voters': 463353}]\n"
     ]
    }
   ],
   "source": [
    "print(voting_data)"
   ]
  },
  {
   "cell_type": "code",
   "execution_count": 43,
   "metadata": {},
   "outputs": [],
   "source": [
    "voting_data.insert(0, {'county': 'El Pass', 'regisgered_voters': 46149})"
   ]
  },
  {
   "cell_type": "code",
   "execution_count": 44,
   "metadata": {},
   "outputs": [
    {
     "output_type": "execute_result",
     "data": {
      "text/plain": [
       "list"
      ]
     },
     "metadata": {},
     "execution_count": 44
    }
   ],
   "source": [
    "type(voting_data)"
   ]
  },
  {
   "cell_type": "code",
   "execution_count": 3,
   "metadata": {},
   "outputs": [
    {
     "output_type": "stream",
     "name": "stdout",
     "text": [
      "['Arapahoe', 'Denver', 'Jefferson']\n"
     ]
    }
   ],
   "source": [
    "print(counties)"
   ]
  },
  {
   "cell_type": "code",
   "execution_count": 4,
   "metadata": {},
   "outputs": [
    {
     "output_type": "stream",
     "name": "stdout",
     "text": [
      "El Paso is not the list of counties.\n"
     ]
    }
   ],
   "source": [
    "counties = [\"Arapahoe\",\"Denver\",\"Jefferson\"]\n",
    "if \"El Paso\" in counties:\n",
    "    print(\"El Paso is in the list of counties.\")\n",
    "else:\n",
    "    print(\"El Paso is not the list of counties.\")"
   ]
  },
  {
   "cell_type": "code",
   "execution_count": 5,
   "metadata": {},
   "outputs": [
    {
     "output_type": "stream",
     "name": "stdout",
     "text": [
      "Arapahoe or El Paso is not in the list of counties.\n"
     ]
    }
   ],
   "source": [
    "if \"Arapahoe\" in counties and \"El Paso\" in counties:\n",
    "    print(\"Arapahoe and El Paso are in the list of counties.\")\n",
    "else:\n",
    "    print(\"Arapahoe or El Paso is not in the list of counties.\")"
   ]
  },
  {
   "cell_type": "code",
   "execution_count": 6,
   "metadata": {},
   "outputs": [
    {
     "output_type": "stream",
     "name": "stdout",
     "text": [
      "0\n1\n2\n3\n4\n"
     ]
    }
   ],
   "source": [
    "numbers = [0, 1, 2, 3, 4]\n",
    "for num in numbers:\n",
    "    print(num)"
   ]
  },
  {
   "cell_type": "code",
   "execution_count": 7,
   "metadata": {},
   "outputs": [
    {
     "output_type": "stream",
     "name": "stdout",
     "text": [
      "0\n1\n2\n3\n4\n"
     ]
    }
   ],
   "source": [
    "for num in range(5):\n",
    "    print(num)"
   ]
  },
  {
   "cell_type": "code",
   "execution_count": 8,
   "metadata": {},
   "outputs": [
    {
     "output_type": "stream",
     "name": "stdout",
     "text": [
      "Arapahoe\nDenver\nJefferson\n"
     ]
    }
   ],
   "source": [
    "for i in range(len(counties)):\n",
    "    print(counties[i])"
   ]
  },
  {
   "cell_type": "code",
   "execution_count": 9,
   "metadata": {},
   "outputs": [
    {
     "output_type": "execute_result",
     "data": {
      "text/plain": [
       "range(0, 3)"
      ]
     },
     "metadata": {},
     "execution_count": 9
    }
   ],
   "source": [
    "range(len(counties))"
   ]
  },
  {
   "cell_type": "code",
   "execution_count": 10,
   "metadata": {},
   "outputs": [
    {
     "output_type": "execute_result",
     "data": {
      "text/plain": [
       "3"
      ]
     },
     "metadata": {},
     "execution_count": 10
    }
   ],
   "source": [
    "len(counties)"
   ]
  },
  {
   "cell_type": "code",
   "execution_count": 27,
   "metadata": {},
   "outputs": [
    {
     "output_type": "stream",
     "name": "stdout",
     "text": [
      "Variable         Type      Data/Info\n------------------------------------\ncounties         list      n=3\ncounties_dict    dict      n=3\ncounties_tuple   tuple     n=3\ni                int       2\nnum              int       4\nnumbers          list      n=5\nos               module    <module 'os' from 'C:\\\\Us<...>\\PythonData\\\\lib\\\\os.py'>\nsys              module    <module 'sys' (built-in)>\n"
     ]
    }
   ],
   "source": [
    "%whos"
   ]
  },
  {
   "cell_type": "code",
   "execution_count": 22,
   "metadata": {},
   "outputs": [
    {
     "output_type": "stream",
     "name": "stdout",
     "text": [
      "Arapahoe\nDenver\nJefferson\n"
     ]
    }
   ],
   "source": [
    "for i in range(len(counties_tuple)):\n",
    "      print(counties_tuple[i])"
   ]
  },
  {
   "cell_type": "code",
   "execution_count": 28,
   "metadata": {},
   "outputs": [
    {
     "output_type": "stream",
     "name": "stdout",
     "text": [
      "Arapahoe\nDenver\nJefferson\n"
     ]
    }
   ],
   "source": [
    "for county in counties_dict:\n",
    "    print(county)"
   ]
  },
  {
   "cell_type": "code",
   "execution_count": 29,
   "metadata": {},
   "outputs": [
    {
     "output_type": "stream",
     "name": "stdout",
     "text": [
      "Arapahoe\nDenver\nJefferson\n"
     ]
    }
   ],
   "source": [
    "for county in counties_dict.keys():\n",
    "    print(county)"
   ]
  },
  {
   "cell_type": "code",
   "execution_count": 30,
   "metadata": {},
   "outputs": [
    {
     "output_type": "stream",
     "name": "stdout",
     "text": [
      "422829\n463353\n432438\n"
     ]
    }
   ],
   "source": [
    "for voters in counties_dict.values():\n",
    "    print(voters)"
   ]
  },
  {
   "cell_type": "code",
   "execution_count": 31,
   "metadata": {},
   "outputs": [
    {
     "output_type": "stream",
     "name": "stdout",
     "text": [
      "422829\n463353\n432438\n"
     ]
    }
   ],
   "source": [
    "for county in counties_dict:\n",
    "    print(counties_dict[county])"
   ]
  },
  {
   "cell_type": "code",
   "execution_count": 32,
   "metadata": {},
   "outputs": [
    {
     "output_type": "stream",
     "name": "stdout",
     "text": [
      "Arapahoe 422829\nDenver 463353\nJefferson 432438\n"
     ]
    }
   ],
   "source": [
    "for county, voters in counties_dict.items():\n",
    "    print(county, voters)"
   ]
  },
  {
   "cell_type": "code",
   "execution_count": 43,
   "metadata": {},
   "outputs": [
    {
     "output_type": "stream",
     "name": "stdout",
     "text": [
      "Arapahoe county has 422829 registered voters.\nDenver county has 463353 registered voters.\nJefferson county has 432438 registered voters.\n"
     ]
    }
   ],
   "source": [
    "for key1, key2 in counties_dict.items():\n",
    "    print(f'{key1} county has {key2} registered voters.')"
   ]
  },
  {
   "cell_type": "code",
   "execution_count": 40,
   "metadata": {},
   "outputs": [],
   "source": [
    "voting_data = [{\"county\":\"Arapahoe\", \"registered_voters\": 422829},\n",
    "                {\"county\":\"Denver\", \"registered_voters\": 463353},\n",
    "                {\"county\":\"Jefferson\", \"registered_voters\": 432438}]"
   ]
  },
  {
   "cell_type": "code",
   "execution_count": 41,
   "metadata": {},
   "outputs": [
    {
     "output_type": "stream",
     "name": "stdout",
     "text": [
      "{'county': 'Arapahoe', 'registered_voters': 422829}\n{'county': 'Denver', 'registered_voters': 463353}\n{'county': 'Jefferson', 'registered_voters': 432438}\n"
     ]
    }
   ],
   "source": [
    "for county_dict in voting_data:\n",
    "    print(county_dict)"
   ]
  },
  {
   "cell_type": "code",
   "execution_count": 48,
   "metadata": {},
   "outputs": [
    {
     "output_type": "stream",
     "name": "stdout",
     "text": [
      "422829 Arapahoe\n463353 Denver\n432438 Jefferson\n"
     ]
    }
   ],
   "source": [
    "for county in range(len(voting_data)):\n",
    "\n",
    "      print(voting_data[county]['registered_voters'], voting_data[county]['county'])"
   ]
  },
  {
   "cell_type": "code",
   "execution_count": 49,
   "metadata": {},
   "outputs": [
    {
     "output_type": "stream",
     "name": "stdout",
     "text": [
      "Arapahoe\n422829\nDenver\n463353\nJefferson\n432438\n"
     ]
    }
   ],
   "source": [
    "for county_dict in voting_data:\n",
    "    for value in county_dict.values():\n",
    "        print(value)"
   ]
  },
  {
   "cell_type": "code",
   "execution_count": 50,
   "metadata": {},
   "outputs": [
    {
     "output_type": "stream",
     "name": "stdout",
     "text": [
      "Arapahoe\n422829\nDenver\n463353\nJefferson\n432438\n"
     ]
    }
   ],
   "source": [
    "for county_dict in voting_data:\n",
    "\n",
    "     for key, value in county_dict.items():\n",
    "\n",
    "         print(value)"
   ]
  },
  {
   "cell_type": "code",
   "execution_count": 51,
   "metadata": {},
   "outputs": [
    {
     "output_type": "stream",
     "name": "stdout",
     "text": [
      "county\nregistered_voters\ncounty\nregistered_voters\ncounty\nregistered_voters\n"
     ]
    }
   ],
   "source": [
    "for county_dict in voting_data:    \n",
    "\n",
    "   for value in county_dict:      \n",
    "\n",
    "       print(value)"
   ]
  },
  {
   "cell_type": "code",
   "execution_count": 52,
   "metadata": {},
   "outputs": [
    {
     "output_type": "stream",
     "name": "stdout",
     "text": [
      "dict_values(['Arapahoe', 422829])\ndict_values(['Denver', 463353])\ndict_values(['Jefferson', 432438])\n"
     ]
    }
   ],
   "source": [
    "for county_dict in voting_data:  \n",
    "\n",
    "     print(county_dict.values())"
   ]
  },
  {
   "cell_type": "code",
   "execution_count": 54,
   "metadata": {},
   "outputs": [
    {
     "output_type": "stream",
     "name": "stdout",
     "text": [
      "You received 159 number of votes. The total number of votes in the election was 1,829. You received 8.69% of the total votes.\n"
     ]
    }
   ],
   "source": [
    "candidate_votes = int(input(\"How many votes did the candidate get in the election? \"))\n",
    "total_votes = int(input(\"What is the total number of votes in the election? \"))\n",
    "message_to_candidate = (\n",
    "    f\"You received {candidate_votes:,} number of votes. \"\n",
    "    f\"The total number of votes in the election was {total_votes:,}. \"\n",
    "    f\"You received {candidate_votes / total_votes * 100:.2f}% of the total votes.\")\n",
    "    \n",
    "print(message_to_candidate)"
   ]
  },
  {
   "cell_type": "code",
   "execution_count": 55,
   "metadata": {},
   "outputs": [
    {
     "output_type": "stream",
     "name": "stdout",
     "text": [
      "Arapahoe county has 422,829 registered voters.\nDenver county has 463,353 registered voters.\nJefferson county has 432,438 registered voters.\n"
     ]
    }
   ],
   "source": [
    "counties_dict = {\"Arapahoe\": 422829, \"Denver\": 463353, \"Jefferson\": 432438}\n",
    "for key1, key2 in counties_dict.items():\n",
    "    print(f'{key1} county has {key2:,} registered voters.')"
   ]
  },
  {
   "cell_type": "code",
   "execution_count": 58,
   "metadata": {},
   "outputs": [
    {
     "output_type": "stream",
     "name": "stdout",
     "text": [
      "Arapahoe count has 422,829 registered voters.\nDenver count has 463,353 registered voters.\nJefferson count has 432,438 registered voters.\n"
     ]
    }
   ],
   "source": [
    "voting_data = [{\"county\":\"Arapahoe\", \"registered_voters\": 422829},\n",
    "                {\"county\":\"Denver\", \"registered_voters\": 463353},\n",
    "                {\"county\":\"Jefferson\", \"registered_voters\": 432438}]\n",
    "\n",
    "\n",
    "for dict in voting_data:\n",
    "    print(f'{dict[\"county\"]} count has {dict[\"registered_voters\"]:,} registered voters.')    \n"
   ]
  },
  {
   "cell_type": "code",
   "execution_count": 62,
   "metadata": {},
   "outputs": [],
   "source": [
    "import os\n",
    "import datetime as dt"
   ]
  },
  {
   "cell_type": "code",
   "execution_count": 63,
   "metadata": {},
   "outputs": [],
   "source": [
    "now = dt.datetime.now()"
   ]
  },
  {
   "cell_type": "code",
   "execution_count": 64,
   "metadata": {},
   "outputs": [
    {
     "output_type": "stream",
     "name": "stdout",
     "text": [
      "2021-05-31 20:20:20.021827\n"
     ]
    }
   ],
   "source": [
    "print(now)"
   ]
  },
  {
   "cell_type": "code",
   "execution_count": 65,
   "metadata": {},
   "outputs": [
    {
     "output_type": "execute_result",
     "data": {
      "text/plain": [
       "'e:\\\\Data_UM\\\\Modules\\\\3_Module_Week\\\\Election_Analysis'"
      ]
     },
     "metadata": {},
     "execution_count": 65
    }
   ],
   "source": [
    "os.getcwd()\n"
   ]
  },
  {
   "cell_type": "code",
   "execution_count": 66,
   "metadata": {},
   "outputs": [],
   "source": [
    "file_to_load = 'Resources/election_results.csv'\n"
   ]
  },
  {
   "cell_type": "code",
   "execution_count": 67,
   "metadata": {},
   "outputs": [],
   "source": [
    "# Open the election results and read the file.\n",
    "election_data = open(file_to_load, 'r')"
   ]
  },
  {
   "cell_type": "code",
   "execution_count": 68,
   "metadata": {},
   "outputs": [],
   "source": [
    "election_data.close()"
   ]
  },
  {
   "cell_type": "code",
   "execution_count": 69,
   "metadata": {},
   "outputs": [
    {
     "output_type": "stream",
     "name": "stdout",
     "text": [
      "<_io.TextIOWrapper name='Resources/election_results.csv' mode='r' encoding='cp1252'>\n"
     ]
    }
   ],
   "source": [
    "with open(file_to_load) as election_data:\n",
    "\n",
    "     # To do: perform analysis.\n",
    "     print(election_data)"
   ]
  },
  {
   "cell_type": "code",
   "execution_count": 70,
   "metadata": {},
   "outputs": [
    {
     "output_type": "stream",
     "name": "stdout",
     "text": [
      "<_io.TextIOWrapper name='Resources\\\\election_results.csv' mode='r' encoding='cp1252'>\n"
     ]
    }
   ],
   "source": [
    "# Assign a variable for the file to load and the path.\n",
    "file_to_load = os.path.join(\"Resources\", \"election_results.csv\")\n",
    "# Open the election results and read the file.\n",
    "with open(file_to_load) as election_data:\n",
    "\n",
    "    # Print the file object.\n",
    "     print(election_data)"
   ]
  },
  {
   "cell_type": "code",
   "execution_count": 71,
   "metadata": {},
   "outputs": [
    {
     "output_type": "execute_result",
     "data": {
      "text/plain": [
       "'e:\\\\Data_UM\\\\Modules\\\\3_Module_Week\\\\Election_Analysis'"
      ]
     },
     "metadata": {},
     "execution_count": 71
    }
   ],
   "source": [
    "os.getcwd()"
   ]
  },
  {
   "cell_type": "code",
   "execution_count": 72,
   "metadata": {},
   "outputs": [],
   "source": [
    "file_to_load = 'Resources/election_results.csv'"
   ]
  },
  {
   "cell_type": "code",
   "execution_count": 73,
   "metadata": {},
   "outputs": [],
   "source": [
    "election_data = open(file_to_load, 'r')"
   ]
  },
  {
   "cell_type": "code",
   "execution_count": 74,
   "metadata": {},
   "outputs": [
    {
     "output_type": "stream",
     "name": "stdout",
     "text": [
      "<_io.TextIOWrapper name='Resources/election_results.csv' mode='r' encoding='cp1252'>\n"
     ]
    }
   ],
   "source": [
    "print(election_data)"
   ]
  },
  {
   "cell_type": "code",
   "execution_count": 75,
   "metadata": {},
   "outputs": [],
   "source": [
    "election_data.close()"
   ]
  },
  {
   "cell_type": "code",
   "execution_count": 76,
   "metadata": {},
   "outputs": [
    {
     "output_type": "stream",
     "name": "stdout",
     "text": [
      "<_io.TextIOWrapper name='Resources/election_results.csv' mode='r' encoding='cp1252'>\n"
     ]
    }
   ],
   "source": [
    "print(election_data)"
   ]
  },
  {
   "cell_type": "code",
   "execution_count": 78,
   "metadata": {},
   "outputs": [
    {
     "output_type": "execute_result",
     "data": {
      "text/plain": [
       "<_io.TextIOWrapper name='analysis\\\\election_analysis.txt' mode='w' encoding='cp1252'>"
      ]
     },
     "metadata": {},
     "execution_count": 78
    }
   ],
   "source": [
    "# Create a filename variable to a direct or indirect path to the file.\n",
    "file_to_save = os.path.join(\"analysis\", \"election_analysis.txt\")\n",
    "# Using the open() function with the \"w\" mode we will write data to the file.\n",
    "open(file_to_save, \"w\")"
   ]
  },
  {
   "cell_type": "code",
   "execution_count": 79,
   "metadata": {},
   "outputs": [],
   "source": [
    "file_to_load = os.path.join(\"Resources\", \"election_results.csv\")\n",
    "# Create a filename variable to a direct or indirect path to the file.\n",
    "file_to_save = os.path.join(\"analysis\", \"election_analysis.txt\")\n"
   ]
  },
  {
   "cell_type": "code",
   "execution_count": 91,
   "metadata": {
    "tags": []
   },
   "outputs": [
    {
     "output_type": "stream",
     "name": "stdout",
     "text": [
      "['Ballot ID', 'County', 'Candidate']\n"
     ]
    }
   ],
   "source": [
    "with open(file_to_load) as election_data:\n",
    "    file_reader = csv.reader(election_data)\n",
    "    # Print the header row.\n",
    "    headers = next(file_reader)\n",
    "    print(headers)"
   ]
  },
  {
   "cell_type": "code",
   "execution_count": 92,
   "metadata": {},
   "outputs": [],
   "source": [
    "import csv"
   ]
  },
  {
   "cell_type": "code",
   "execution_count": null,
   "metadata": {},
   "outputs": [],
   "source": []
  }
 ],
 "metadata": {
  "kernelspec": {
   "name": "python371jvsc74a57bd006ea48ceef62220773f4f2ee4106fe986f5aab14f738049ab09496c7cfffd084",
   "display_name": "Python 3.7.1 64-bit ('PythonData': conda)"
  },
  "language_info": {
   "codemirror_mode": {
    "name": "ipython",
    "version": 3
   },
   "file_extension": ".py",
   "mimetype": "text/x-python",
   "name": "python",
   "nbconvert_exporter": "python",
   "pygments_lexer": "ipython3",
   "version": "3.7.1"
  },
  "metadata": {
   "interpreter": {
    "hash": "85a2777f1971a23460a2eb76b8b6bda4cbb9eedb816c469c8c4c4f0e092296c6"
   }
  }
 },
 "nbformat": 4,
 "nbformat_minor": 5
}