{
 "cells": [
  {
   "cell_type": "code",
   "execution_count": 1,
   "id": "15252e0b",
   "metadata": {},
   "outputs": [
    {
     "name": "stdout",
     "output_type": "stream",
     "text": [
      "Hello world\n"
     ]
    }
   ],
   "source": [
    "print(\"Hello world\")"
   ]
  },
  {
   "cell_type": "code",
   "execution_count": 22,
   "id": "b29ae435",
   "metadata": {},
   "outputs": [],
   "source": [
    "counties = ['Arapahoe', 'Denver', 'Jefferson']"
   ]
  },
  {
   "cell_type": "code",
   "execution_count": 15,
   "id": "dcee31d8",
   "metadata": {},
   "outputs": [
    {
     "name": "stdout",
     "output_type": "stream",
     "text": [
      "['Arapahoe', 'Denver', 'El Paso', 'El Paso']\n"
     ]
    }
   ],
   "source": [
    "print(counties)"
   ]
  },
  {
   "cell_type": "code",
   "execution_count": 5,
   "id": "95e5cf59",
   "metadata": {},
   "outputs": [],
   "source": [
    "countries.insert(2,\"El Paso\")"
   ]
  },
  {
   "cell_type": "code",
   "execution_count": 8,
   "id": "96fd4426",
   "metadata": {},
   "outputs": [],
   "source": [
    "countries.append(\"El Paso\")"
   ]
  },
  {
   "cell_type": "code",
   "execution_count": 9,
   "id": "0762a476",
   "metadata": {},
   "outputs": [
    {
     "name": "stdout",
     "output_type": "stream",
     "text": [
      "Variable    Type    Data/Info\n",
      "-----------------------------\n",
      "countries   list    n=5\n"
     ]
    }
   ],
   "source": [
    "%whos"
   ]
  },
  {
   "cell_type": "code",
   "execution_count": 10,
   "id": "a942301f",
   "metadata": {},
   "outputs": [
    {
     "ename": "NameError",
     "evalue": "name 'counties' is not defined",
     "output_type": "error",
     "traceback": [
      "\u001b[1;31m---------------------------------------------------------------------------\u001b[0m",
      "\u001b[1;31mNameError\u001b[0m                                 Traceback (most recent call last)",
      "\u001b[1;32m<ipython-input-10-826272cdc9dc>\u001b[0m in \u001b[0;36m<module>\u001b[1;34m\u001b[0m\n\u001b[1;32m----> 1\u001b[1;33m \u001b[0mcountries\u001b[0m \u001b[1;33m=\u001b[0m \u001b[0mcounties\u001b[0m\u001b[1;33m\u001b[0m\u001b[1;33m\u001b[0m\u001b[0m\n\u001b[0m",
      "\u001b[1;31mNameError\u001b[0m: name 'counties' is not defined"
     ]
    }
   ],
   "source": []
  },
  {
   "cell_type": "code",
   "execution_count": 11,
   "id": "7c8c57a9",
   "metadata": {},
   "outputs": [],
   "source": [
    "counties = countries[:]"
   ]
  },
  {
   "cell_type": "code",
   "execution_count": 12,
   "id": "9f1cd830",
   "metadata": {},
   "outputs": [
    {
     "name": "stdout",
     "output_type": "stream",
     "text": [
      "Variable    Type    Data/Info\n",
      "-----------------------------\n",
      "counties    list    n=5\n",
      "countries   list    n=5\n"
     ]
    }
   ],
   "source": [
    "%whos"
   ]
  },
  {
   "cell_type": "code",
   "execution_count": 13,
   "id": "da0bbda5",
   "metadata": {},
   "outputs": [
    {
     "data": {
      "text/plain": [
       "'Jefferson'"
      ]
     },
     "execution_count": 13,
     "metadata": {},
     "output_type": "execute_result"
    }
   ],
   "source": [
    "counties.pop(3)"
   ]
  },
  {
   "cell_type": "code",
   "execution_count": 29,
   "id": "ac587565",
   "metadata": {},
   "outputs": [
    {
     "name": "stdout",
     "output_type": "stream",
     "text": [
      "['Denver', 'Jefferson', 'El Paso']\n"
     ]
    }
   ],
   "source": [
    "print(counties)"
   ]
  },
  {
   "cell_type": "code",
   "execution_count": 28,
   "id": "f827fe1a",
   "metadata": {},
   "outputs": [
    {
     "ename": "IndexError",
     "evalue": "pop index out of range",
     "output_type": "error",
     "traceback": [
      "\u001b[1;31m---------------------------------------------------------------------------\u001b[0m",
      "\u001b[1;31mIndexError\u001b[0m                                Traceback (most recent call last)",
      "\u001b[1;32m<ipython-input-28-d9a9bf346569>\u001b[0m in \u001b[0;36m<module>\u001b[1;34m\u001b[0m\n\u001b[1;32m----> 1\u001b[1;33m \u001b[0mcounties\u001b[0m\u001b[1;33m.\u001b[0m\u001b[0mpop\u001b[0m\u001b[1;33m(\u001b[0m\u001b[1;36m3\u001b[0m\u001b[1;33m)\u001b[0m \u001b[1;32mand\u001b[0m \u001b[0mcounties\u001b[0m\u001b[1;33m.\u001b[0m\u001b[0mpop\u001b[0m\u001b[1;33m(\u001b[0m\u001b[1;36m2\u001b[0m\u001b[1;33m)\u001b[0m\u001b[1;33m\u001b[0m\u001b[1;33m\u001b[0m\u001b[0m\n\u001b[0m",
      "\u001b[1;31mIndexError\u001b[0m: pop index out of range"
     ]
    }
   ],
   "source": []
  },
  {
   "cell_type": "code",
   "execution_count": 19,
   "id": "a813c5e8",
   "metadata": {},
   "outputs": [],
   "source": [
    "counties.append('Jefferson')"
   ]
  },
  {
   "cell_type": "code",
   "execution_count": 21,
   "id": "a51fd700",
   "metadata": {},
   "outputs": [],
   "source": [
    "counties[2] = \"El Paso\""
   ]
  },
  {
   "cell_type": "code",
   "execution_count": 24,
   "id": "efc64940",
   "metadata": {},
   "outputs": [],
   "source": [
    "counties.append(\"El Paso\")"
   ]
  },
  {
   "cell_type": "code",
   "execution_count": 26,
   "id": "bcb90fe8",
   "metadata": {},
   "outputs": [
    {
     "data": {
      "text/plain": [
       "'Arapahoe'"
      ]
     },
     "execution_count": 26,
     "metadata": {},
     "output_type": "execute_result"
    }
   ],
   "source": [
    "counties.pop(0)"
   ]
  },
  {
   "cell_type": "code",
   "execution_count": null,
   "id": "cc1ba13b",
   "metadata": {},
   "outputs": [],
   "source": []
  }
 ],
 "metadata": {
  "kernelspec": {
   "display_name": "Python 3",
   "language": "python",
   "name": "python3"
  },
  "language_info": {
   "codemirror_mode": {
    "name": "ipython",
    "version": 3
   },
   "file_extension": ".py",
   "mimetype": "text/x-python",
   "name": "python",
   "nbconvert_exporter": "python",
   "pygments_lexer": "ipython3",
   "version": "3.8.8"
  }
 },
 "nbformat": 4,
 "nbformat_minor": 5
}
